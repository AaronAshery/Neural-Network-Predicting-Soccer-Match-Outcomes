{
 "cells": [
  {
   "cell_type": "markdown",
   "id": "8e0fee4d",
   "metadata": {
    "tags": []
   },
   "source": [
    "# Soccer Data and Nueral Networks\n",
    "##### Aaron Ashery"
   ]
  },
  {
   "cell_type": "markdown",
   "id": "c3cab53b",
   "metadata": {
    "tags": []
   },
   "source": [
    "#### First set up our helper functions"
   ]
  },
  {
   "cell_type": "code",
   "execution_count": 1,
   "id": "727438b4",
   "metadata": {
    "tags": []
   },
   "outputs": [],
   "source": [
    "import random\n",
    "import numpy as np\n",
    "import matplotlib.pyplot as plt"
   ]
  },
  {
   "cell_type": "code",
   "execution_count": 2,
   "id": "928946d5",
   "metadata": {
    "tags": []
   },
   "outputs": [],
   "source": [
    "from tensorflow.keras.models import Sequential\n",
    "from tensorflow.keras.layers import Dense\n",
    "from tensorflow.keras.layers import Flatten\n",
    "from tensorflow.keras.utils import to_categorical"
   ]
  },
  {
   "cell_type": "code",
   "execution_count": 3,
   "id": "e213ee51",
   "metadata": {
    "tags": []
   },
   "outputs": [],
   "source": [
    "# generalized version that plots validation data if available\n",
    "\n",
    "def plot_history(history):\n",
    "    loss_values = history.history['loss']\n",
    "    accuracy_values = history.history['accuracy']\n",
    "    validation = 'val_loss' in history.history\n",
    "    if validation:\n",
    "        val_loss_values = history.history['val_loss']\n",
    "        val_accuracy_values = history.history['val_accuracy']\n",
    "    epoch_nums = range(1, len(loss_values)+1)\n",
    "    plt.figure(figsize=(12,4)) # width, height in inches\n",
    "    plt.subplot(1, 2, 1)\n",
    "    if validation:\n",
    "        plt.plot(epoch_nums, loss_values, 'r', label=\"Training loss\")\n",
    "        plt.plot(epoch_nums, val_loss_values, 'r--', label=\"Validation loss\")\n",
    "        plt.title(\"Training/validation loss\")\n",
    "        plt.legend()\n",
    "    else:\n",
    "        plt.plot(epoch_nums, loss_values, 'r', label=\"Training loss\")\n",
    "        plt.title(\"Training loss\")\n",
    "    plt.xlabel(\"Epochs\")\n",
    "    plt.ylabel(\"Loss\")\n",
    "    plt.subplot(1, 2, 2)\n",
    "    if validation:\n",
    "        plt.plot(epoch_nums, accuracy_values, 'b', label='Training accuracy')\n",
    "        plt.plot(epoch_nums, val_accuracy_values, 'b--', label='Validation accuracy')\n",
    "        plt.title(\"Training/validation accuracy\")\n",
    "        plt.legend()\n",
    "    else:\n",
    "        plt.plot(epoch_nums, accuracy_values, 'b', label='Training accuracy')\n",
    "        plt.title(\"Training accuracy\")\n",
    "    plt.xlabel(\"Epochs\")\n",
    "    plt.ylabel(\"Accuracy\")\n",
    "    plt.ylim(0, 1)\n",
    "    plt.show()"
   ]
  },
  {
   "cell_type": "code",
   "execution_count": 4,
   "id": "57a612bf",
   "metadata": {
    "tags": []
   },
   "outputs": [],
   "source": [
    "def show_result(n):\n",
    "    network_answer = np.argmax(outputs[n])\n",
    "    correct_answer = np.argmax(test_targets[n])\n",
    "    if network_answer == correct_answer:\n",
    "        print(\"network correctly classified image #{} as '{}'\".format(n, network_answer))\n",
    "    else:\n",
    "        print(\"network misclassified game #{} as '{}'\".format(n, network_answer))\n",
    "        print(\"The correct answer is '{}'\".format(correct_answer))"
   ]
  },
  {
   "cell_type": "code",
   "execution_count": 5,
   "id": "69ba96c2",
   "metadata": {
    "tags": []
   },
   "outputs": [],
   "source": [
    "def read_dataset(patterns_filename, targets_filename):\n",
    "    with open(patterns_filename) as file:\n",
    "        patterns = [[float(x) for x in line.split()] for line in file]\n",
    "    with open(targets_filename) as file:\n",
    "        targets = [int(line) for line in file]\n",
    "    return patterns, targets"
   ]
  },
  {
   "cell_type": "markdown",
   "id": "1242a276",
   "metadata": {
    "tags": []
   },
   "source": [
    "## Part 1: Determining the outcome of a soccer game using data AFTER the game takes place"
   ]
  },
  {
   "cell_type": "code",
   "execution_count": 6,
   "id": "98863359",
   "metadata": {
    "tags": []
   },
   "outputs": [],
   "source": [
    "sData, sResult = read_dataset(\"trainingDataNoDraws.txt\", \"trainingTargetNoDraws.txt\")\n",
    "training_set, training_targets = sData[0:20000], sResult[0:20000] #\n",
    "testing_set, testing_targets = sData[20000:26262],sResult[20000:26262]\n",
    "\n",
    "train_data = np.array(training_set)\n",
    "train_targets = np.array(training_targets)\n",
    "train_targets = to_categorical(train_targets)\n",
    "\n",
    "test_data = np.array(testing_set)\n",
    "test_targets = np.array(testing_targets)\n",
    "test_targets = to_categorical(test_targets)"
   ]
  },
  {
   "cell_type": "code",
   "execution_count": 7,
   "id": "4714c2f3",
   "metadata": {
    "tags": []
   },
   "outputs": [
    {
     "data": {
      "text/plain": [
       "(array([[14., 14.,  7., ...,  3.,  6.,  3.],\n",
       "        [15., 12.,  7., ...,  9.,  6.,  7.],\n",
       "        [ 9.,  9.,  4., ..., 18.,  2.,  3.],\n",
       "        ...,\n",
       "        [15., 13.,  3., ..., 10.,  5.,  6.],\n",
       "        [12., 13.,  5., ..., 11.,  4.,  4.],\n",
       "        [12.,  8.,  5., ...,  9.,  5.,  4.]]),\n",
       " (20000, 8))"
      ]
     },
     "execution_count": 7,
     "metadata": {},
     "output_type": "execute_result"
    }
   ],
   "source": [
    "train_data, train_data.shape"
   ]
  },
  {
   "cell_type": "markdown",
   "id": "b5b9dc7d",
   "metadata": {
    "tags": []
   },
   "source": [
    "##### The eight data points are Shots, Shots on Target, Fouls, and Corners. (Two of each for Home and Away)"
   ]
  },
  {
   "cell_type": "code",
   "execution_count": 8,
   "id": "35d4f20b",
   "metadata": {
    "tags": []
   },
   "outputs": [
    {
     "data": {
      "text/plain": [
       "(array([[0., 1.],\n",
       "        [0., 1.],\n",
       "        [1., 0.],\n",
       "        ...,\n",
       "        [1., 0.],\n",
       "        [1., 0.],\n",
       "        [1., 0.]], dtype=float32),\n",
       " (20000, 2))"
      ]
     },
     "execution_count": 8,
     "metadata": {},
     "output_type": "execute_result"
    }
   ],
   "source": [
    "train_targets, train_targets.shape"
   ]
  },
  {
   "cell_type": "markdown",
   "id": "d85c8492",
   "metadata": {
    "tags": []
   },
   "source": [
    "##### To begin and make it simple we are only looking at games that ended in a win for either the home or away team (No Draws)"
   ]
  },
  {
   "cell_type": "code",
   "execution_count": 9,
   "id": "e1cf3098",
   "metadata": {
    "tags": []
   },
   "outputs": [],
   "source": [
    "network = Sequential()\n",
    "network.add(Flatten(input_shape=(8,)))\n",
    "network.add(Dense(10, activation='sigmoid', name='hidden', input_shape=(8,)))\n",
    "network.add(Dense(2, activation='sigmoid', name='output'))"
   ]
  },
  {
   "cell_type": "code",
   "execution_count": 10,
   "id": "0af00f71",
   "metadata": {
    "tags": []
   },
   "outputs": [],
   "source": [
    "network.compile(loss='mean_squared_error', optimizer='RMSprop', metrics=['accuracy'])"
   ]
  },
  {
   "cell_type": "code",
   "execution_count": 11,
   "id": "4bb5fe29",
   "metadata": {
    "tags": []
   },
   "outputs": [
    {
     "name": "stdout",
     "output_type": "stream",
     "text": [
      "Model: \"sequential\"\n",
      "_________________________________________________________________\n",
      "Layer (type)                 Output Shape              Param #   \n",
      "=================================================================\n",
      "flatten (Flatten)            (None, 8)                 0         \n",
      "_________________________________________________________________\n",
      "hidden (Dense)               (None, 10)                90        \n",
      "_________________________________________________________________\n",
      "output (Dense)               (None, 2)                 22        \n",
      "=================================================================\n",
      "Total params: 112\n",
      "Trainable params: 112\n",
      "Non-trainable params: 0\n",
      "_________________________________________________________________\n"
     ]
    }
   ],
   "source": [
    "network.summary()"
   ]
  },
  {
   "cell_type": "code",
   "execution_count": 12,
   "id": "d2044452",
   "metadata": {
    "tags": []
   },
   "outputs": [
    {
     "name": "stdout",
     "output_type": "stream",
     "text": [
      "165/165 [==============================] - 1s 2ms/step - loss: 0.2624 - accuracy: 0.3959\n"
     ]
    },
    {
     "data": {
      "text/plain": [
       "[0.26306024193763733, 0.3896571397781372]"
      ]
     },
     "execution_count": 12,
     "metadata": {},
     "output_type": "execute_result"
    }
   ],
   "source": [
    "network.evaluate(test_data,test_targets)"
   ]
  },
  {
   "cell_type": "code",
   "execution_count": 13,
   "id": "df83c4a1",
   "metadata": {
    "tags": []
   },
   "outputs": [
    {
     "name": "stdout",
     "output_type": "stream",
     "text": [
      "Epoch 1/10\n",
      "625/625 [==============================] - 2s 2ms/step - loss: 0.2349 - accuracy: 0.5960\n",
      "Epoch 2/10\n",
      "625/625 [==============================] - 1s 2ms/step - loss: 0.2067 - accuracy: 0.6962\n",
      "Epoch 3/10\n",
      "625/625 [==============================] - 1s 2ms/step - loss: 0.1835 - accuracy: 0.7434\n",
      "Epoch 4/10\n",
      "625/625 [==============================] - 1s 2ms/step - loss: 0.1696 - accuracy: 0.7592\n",
      "Epoch 5/10\n",
      "625/625 [==============================] - 1s 2ms/step - loss: 0.1640 - accuracy: 0.7660\n",
      "Epoch 6/10\n",
      "625/625 [==============================] - 1s 2ms/step - loss: 0.1623 - accuracy: 0.7659\n",
      "Epoch 7/10\n",
      "625/625 [==============================] - 1s 2ms/step - loss: 0.1613 - accuracy: 0.7653\n",
      "Epoch 8/10\n",
      "625/625 [==============================] - 1s 2ms/step - loss: 0.1609 - accuracy: 0.7664\n",
      "Epoch 9/10\n",
      "625/625 [==============================] - 1s 2ms/step - loss: 0.1602 - accuracy: 0.7674\n",
      "Epoch 10/10\n",
      "625/625 [==============================] - 1s 2ms/step - loss: 0.1593 - accuracy: 0.7686\n"
     ]
    }
   ],
   "source": [
    "history = network.fit(train_data, train_targets, epochs=10)"
   ]
  },
  {
   "cell_type": "code",
   "execution_count": 14,
   "id": "21493744",
   "metadata": {
    "tags": []
   },
   "outputs": [
    {
     "name": "stdout",
     "output_type": "stream",
     "text": [
      "625/625 [==============================] - 2s 2ms/step - loss: 0.1588 - accuracy: 0.7670\n"
     ]
    },
    {
     "data": {
      "text/plain": [
       "[0.15876264870166779, 0.7670000195503235]"
      ]
     },
     "execution_count": 14,
     "metadata": {},
     "output_type": "execute_result"
    }
   ],
   "source": [
    "network.evaluate(train_data,train_targets)"
   ]
  },
  {
   "cell_type": "code",
   "execution_count": 15,
   "id": "56d3d295",
   "metadata": {
    "tags": []
   },
   "outputs": [
    {
     "name": "stdout",
     "output_type": "stream",
     "text": [
      "165/165 [==============================] - 0s 2ms/step - loss: 0.1529 - accuracy: 0.7774\n"
     ]
    },
    {
     "data": {
      "text/plain": [
       "[0.15292538702487946, 0.7774199843406677]"
      ]
     },
     "execution_count": 15,
     "metadata": {},
     "output_type": "execute_result"
    }
   ],
   "source": [
    "network.evaluate(test_data,test_targets)"
   ]
  },
  {
   "cell_type": "markdown",
   "id": "9aadef1d",
   "metadata": {
    "tags": []
   },
   "source": [
    "#### 77.5% of Games Predicted Correctly"
   ]
  },
  {
   "cell_type": "markdown",
   "id": "9ecb31e5",
   "metadata": {
    "tags": []
   },
   "source": [
    "### Adding in Draws"
   ]
  },
  {
   "cell_type": "code",
   "execution_count": 16,
   "id": "b73eadff",
   "metadata": {
    "tags": []
   },
   "outputs": [],
   "source": [
    "sData, sResult = read_dataset(\"trainingData.txt\", \"trainingTarget.txt\")\n",
    "training_set, training_targets = sData[0:30000], sResult[0:30000] #\n",
    "testing_set, testing_targets = sData[30000:34000],sResult[30000:34000]\n",
    "\n",
    "train_data = np.array(training_set)\n",
    "train_targets = np.array(training_targets)\n",
    "train_targets = to_categorical(train_targets)\n",
    "\n",
    "test_data = np.array(testing_set)\n",
    "test_targets = np.array(testing_targets)\n",
    "test_targets = to_categorical(test_targets)"
   ]
  },
  {
   "cell_type": "code",
   "execution_count": 17,
   "id": "26a17777",
   "metadata": {
    "tags": []
   },
   "outputs": [
    {
     "data": {
      "text/plain": [
       "(array([[14., 14.,  7., ...,  3.,  6.,  3.],\n",
       "        [15., 12.,  7., ...,  9.,  6.,  7.],\n",
       "        [ 9.,  9.,  4., ..., 18.,  2.,  3.],\n",
       "        ...,\n",
       "        [15., 12.,  8., ..., 15.,  8.,  7.],\n",
       "        [ 9.,  9.,  4., ..., 10.,  6.,  6.],\n",
       "        [22., 11.,  5., ..., 21.,  9.,  1.]]),\n",
       " (30000, 8))"
      ]
     },
     "execution_count": 17,
     "metadata": {},
     "output_type": "execute_result"
    }
   ],
   "source": [
    "train_data, train_data.shape"
   ]
  },
  {
   "cell_type": "markdown",
   "id": "49cecda0",
   "metadata": {
    "tags": []
   },
   "source": [
    "##### Notice we have many more games to look at now"
   ]
  },
  {
   "cell_type": "code",
   "execution_count": 18,
   "id": "e8a1a198",
   "metadata": {
    "tags": []
   },
   "outputs": [
    {
     "data": {
      "text/plain": [
       "(array([[0., 1., 0.],\n",
       "        [0., 1., 0.],\n",
       "        [1., 0., 0.],\n",
       "        ...,\n",
       "        [1., 0., 0.],\n",
       "        [0., 1., 0.],\n",
       "        [0., 0., 1.]], dtype=float32),\n",
       " (30000, 3))"
      ]
     },
     "execution_count": 18,
     "metadata": {},
     "output_type": "execute_result"
    }
   ],
   "source": [
    "train_targets, train_targets.shape"
   ]
  },
  {
   "cell_type": "markdown",
   "id": "8e00bc7c",
   "metadata": {
    "tags": []
   },
   "source": [
    "##### Notice now there are 3 possible outputs in the target vectors"
   ]
  },
  {
   "cell_type": "code",
   "execution_count": 19,
   "id": "e5dd1fec",
   "metadata": {
    "tags": []
   },
   "outputs": [],
   "source": [
    "network = Sequential()\n",
    "network.add(Flatten(input_shape=(8,)))\n",
    "network.add(Dense(10, activation='relu', name='hidden', input_shape=(8,)))\n",
    "network.add(Dense(3, activation='softmax', name='output'))"
   ]
  },
  {
   "cell_type": "code",
   "execution_count": 20,
   "id": "9448430d",
   "metadata": {
    "tags": []
   },
   "outputs": [],
   "source": [
    "network.compile(loss='categorical_crossentropy', optimizer='RMSprop', metrics=['accuracy']) #'mean_squared_error'"
   ]
  },
  {
   "cell_type": "code",
   "execution_count": 21,
   "id": "4c26221a",
   "metadata": {
    "tags": []
   },
   "outputs": [
    {
     "name": "stdout",
     "output_type": "stream",
     "text": [
      "Model: \"sequential_1\"\n",
      "_________________________________________________________________\n",
      "Layer (type)                 Output Shape              Param #   \n",
      "=================================================================\n",
      "flatten_1 (Flatten)          (None, 8)                 0         \n",
      "_________________________________________________________________\n",
      "hidden (Dense)               (None, 10)                90        \n",
      "_________________________________________________________________\n",
      "output (Dense)               (None, 3)                 33        \n",
      "=================================================================\n",
      "Total params: 123\n",
      "Trainable params: 123\n",
      "Non-trainable params: 0\n",
      "_________________________________________________________________\n"
     ]
    }
   ],
   "source": [
    "network.summary()"
   ]
  },
  {
   "cell_type": "code",
   "execution_count": 22,
   "id": "efc17e46",
   "metadata": {
    "tags": []
   },
   "outputs": [
    {
     "name": "stdout",
     "output_type": "stream",
     "text": [
      "125/125 [==============================] - 1s 2ms/step - loss: 12.1289 - accuracy: 0.2677\n"
     ]
    },
    {
     "data": {
      "text/plain": [
       "[12.200224876403809, 0.26600000262260437]"
      ]
     },
     "execution_count": 22,
     "metadata": {},
     "output_type": "execute_result"
    }
   ],
   "source": [
    "network.evaluate(test_data,test_targets)"
   ]
  },
  {
   "cell_type": "code",
   "execution_count": 23,
   "id": "713db3d5",
   "metadata": {
    "tags": []
   },
   "outputs": [
    {
     "name": "stdout",
     "output_type": "stream",
     "text": [
      "Epoch 1/10\n",
      "938/938 [==============================] - 2s 2ms/step - loss: 1.7796 - accuracy: 0.4155\n",
      "Epoch 2/10\n",
      "938/938 [==============================] - 1s 1ms/step - loss: 0.9354 - accuracy: 0.5606\n",
      "Epoch 3/10\n",
      "938/938 [==============================] - 1s 2ms/step - loss: 0.9211 - accuracy: 0.5667\n",
      "Epoch 4/10\n",
      "938/938 [==============================] - 2s 2ms/step - loss: 0.9199 - accuracy: 0.5668\n",
      "Epoch 5/10\n",
      "938/938 [==============================] - 2s 2ms/step - loss: 0.9196 - accuracy: 0.5676\n",
      "Epoch 6/10\n",
      "938/938 [==============================] - 2s 2ms/step - loss: 0.9186 - accuracy: 0.5688\n",
      "Epoch 7/10\n",
      "938/938 [==============================] - 2s 2ms/step - loss: 0.9199 - accuracy: 0.5667\n",
      "Epoch 8/10\n",
      "938/938 [==============================] - 2s 2ms/step - loss: 0.9189 - accuracy: 0.5699\n",
      "Epoch 9/10\n",
      "938/938 [==============================] - 2s 2ms/step - loss: 0.9187 - accuracy: 0.5689\n",
      "Epoch 10/10\n",
      "938/938 [==============================] - 2s 2ms/step - loss: 0.9188 - accuracy: 0.5707\n"
     ]
    }
   ],
   "source": [
    "history = network.fit(train_data, train_targets, epochs=10)"
   ]
  },
  {
   "cell_type": "code",
   "execution_count": 24,
   "id": "a8221d11",
   "metadata": {
    "tags": []
   },
   "outputs": [
    {
     "name": "stdout",
     "output_type": "stream",
     "text": [
      "938/938 [==============================] - 2s 2ms/step - loss: 0.9224 - accuracy: 0.5651\n"
     ]
    },
    {
     "data": {
      "text/plain": [
       "[0.9224361777305603, 0.5651333332061768]"
      ]
     },
     "execution_count": 24,
     "metadata": {},
     "output_type": "execute_result"
    }
   ],
   "source": [
    "network.evaluate(train_data,train_targets)"
   ]
  },
  {
   "cell_type": "code",
   "execution_count": 25,
   "id": "f5c19c1a",
   "metadata": {
    "tags": []
   },
   "outputs": [
    {
     "name": "stdout",
     "output_type": "stream",
     "text": [
      "125/125 [==============================] - 0s 1ms/step - loss: 0.8964 - accuracy: 0.5755\n"
     ]
    },
    {
     "data": {
      "text/plain": [
       "[0.896381676197052, 0.5755000114440918]"
      ]
     },
     "execution_count": 25,
     "metadata": {},
     "output_type": "execute_result"
    }
   ],
   "source": [
    "network.evaluate(test_data,test_targets)"
   ]
  },
  {
   "cell_type": "markdown",
   "id": "0d447367",
   "metadata": {
    "tags": []
   },
   "source": [
    "#### About 57% of Games Predicted Correctly"
   ]
  },
  {
   "cell_type": "markdown",
   "id": "180eb4a0",
   "metadata": {
    "tags": []
   },
   "source": [
    "### Predicting the chance the Home Team will win"
   ]
  },
  {
   "cell_type": "code",
   "execution_count": 26,
   "id": "4db041ba",
   "metadata": {
    "tags": []
   },
   "outputs": [],
   "source": [
    "sData, sResult = read_dataset(\"trainingData_hOdds.txt\", \"trainingTarget_hOdds.txt\")\n",
    "training_set, training_targets = sData[0:30000], sResult[0:30000] #\n",
    "testing_set, testing_targets = sData[30000:34000],sResult[30000:34000]\n",
    "\n",
    "train_data = np.array(training_set)\n",
    "train_targets = np.array(training_targets)\n",
    "train_targets = train_targets / 100\n",
    "\n",
    "test_data = np.array(testing_set)\n",
    "test_targets = np.array(testing_targets)\n",
    "test_targets = test_targets / 100"
   ]
  },
  {
   "cell_type": "code",
   "execution_count": 27,
   "id": "93de6339",
   "metadata": {
    "tags": []
   },
   "outputs": [
    {
     "data": {
      "text/plain": [
       "(array([[14., 14.,  7., ...,  3.,  6.,  3.],\n",
       "        [15., 12.,  7., ...,  9.,  6.,  7.],\n",
       "        [ 9.,  9.,  4., ..., 18.,  2.,  3.],\n",
       "        ...,\n",
       "        [22., 11.,  5., ..., 21.,  9.,  1.],\n",
       "        [10., 14.,  4., ..., 12.,  3.,  6.],\n",
       "        [16.,  8.,  4., ..., 16.,  5.,  8.]]),\n",
       " (30000, 8))"
      ]
     },
     "execution_count": 27,
     "metadata": {},
     "output_type": "execute_result"
    }
   ],
   "source": [
    "train_data, train_data.shape"
   ]
  },
  {
   "cell_type": "code",
   "execution_count": 28,
   "id": "379986c2",
   "metadata": {
    "tags": []
   },
   "outputs": [
    {
     "data": {
      "text/plain": [
       "(array([0.55, 0.5 , 0.62, ..., 0.54, 0.32, 0.39]), (30000,))"
      ]
     },
     "execution_count": 28,
     "metadata": {},
     "output_type": "execute_result"
    }
   ],
   "source": [
    "train_targets, train_targets.shape"
   ]
  },
  {
   "cell_type": "markdown",
   "id": "6eebf04d",
   "metadata": {
    "tags": []
   },
   "source": [
    "#### These numbers are given by Bet365, they are the gambling odds that the home team will win the game\n",
    "#### The goal here is to train our network to produce similar odds, since the targets are proven to be very accurate; and to use regression, since we want our network to produce a number rather than a category"
   ]
  },
  {
   "cell_type": "code",
   "execution_count": 29,
   "id": "a75e6bdf",
   "metadata": {
    "tags": []
   },
   "outputs": [],
   "source": [
    "network = Sequential()\n",
    "network.add(Flatten(input_shape=(8,)))\n",
    "network.add(Dense(30, activation='relu', name='hidden', input_shape=(8,)))\n",
    "network.add(Dense(30, activation='relu', name='hidden2', input_shape=(8,)))\n",
    "network.add(Dense(1, activation='sigmoid', name='output'))"
   ]
  },
  {
   "cell_type": "code",
   "execution_count": 30,
   "id": "c2951fb1",
   "metadata": {
    "tags": []
   },
   "outputs": [],
   "source": [
    "network.compile(loss='mean_squared_error', optimizer='rmsprop', metrics=['accuracy']) #'mean_squared_error'"
   ]
  },
  {
   "cell_type": "code",
   "execution_count": 31,
   "id": "e85e1a10",
   "metadata": {
    "tags": []
   },
   "outputs": [
    {
     "name": "stdout",
     "output_type": "stream",
     "text": [
      "Model: \"sequential_2\"\n",
      "_________________________________________________________________\n",
      "Layer (type)                 Output Shape              Param #   \n",
      "=================================================================\n",
      "flatten_2 (Flatten)          (None, 8)                 0         \n",
      "_________________________________________________________________\n",
      "hidden (Dense)               (None, 30)                270       \n",
      "_________________________________________________________________\n",
      "hidden2 (Dense)              (None, 30)                930       \n",
      "_________________________________________________________________\n",
      "output (Dense)               (None, 1)                 31        \n",
      "=================================================================\n",
      "Total params: 1,231\n",
      "Trainable params: 1,231\n",
      "Non-trainable params: 0\n",
      "_________________________________________________________________\n"
     ]
    }
   ],
   "source": [
    "network.summary()"
   ]
  },
  {
   "cell_type": "code",
   "execution_count": 32,
   "id": "fbb56caa",
   "metadata": {
    "tags": []
   },
   "outputs": [
    {
     "name": "stdout",
     "output_type": "stream",
     "text": [
      "125/125 [==============================] - 1s 1ms/step - loss: 0.3052 - accuracy: 0.0000e+00\n"
     ]
    },
    {
     "data": {
      "text/plain": [
       "[0.3003138601779938, 0.0]"
      ]
     },
     "execution_count": 32,
     "metadata": {},
     "output_type": "execute_result"
    }
   ],
   "source": [
    "network.evaluate(test_data,test_targets)"
   ]
  },
  {
   "cell_type": "code",
   "execution_count": 33,
   "id": "e5e4b711",
   "metadata": {
    "tags": []
   },
   "outputs": [
    {
     "data": {
      "text/plain": [
       "array([0.99505186], dtype=float32)"
      ]
     },
     "execution_count": 33,
     "metadata": {},
     "output_type": "execute_result"
    }
   ],
   "source": [
    "network.predict(test_data)[0]"
   ]
  },
  {
   "cell_type": "markdown",
   "id": "a6dbd852",
   "metadata": {
    "tags": []
   },
   "source": [
    "#### The accuracy function isn't going to work for this since our network won't be able to output a number exactly the same as the target, we need a tolerance"
   ]
  },
  {
   "cell_type": "code",
   "execution_count": 34,
   "id": "2ac52cef",
   "metadata": {
    "tags": []
   },
   "outputs": [],
   "source": [
    "def my_accuracy(test_data, test_targets, tolerance, p): #have a premade list for it to go way faster\n",
    "    correct = 0\n",
    "    for i in range(len(test_data)):\n",
    "        if abs(test_targets[i] - p[i][0]) <= tolerance:\n",
    "            correct += 1\n",
    "        else:\n",
    "            pass\n",
    "    print((correct / len(test_data)*100))\n",
    "        "
   ]
  },
  {
   "cell_type": "code",
   "execution_count": 35,
   "id": "23808179",
   "metadata": {
    "tags": []
   },
   "outputs": [
    {
     "name": "stdout",
     "output_type": "stream",
     "text": [
      "0.375\n",
      "1.125\n"
     ]
    }
   ],
   "source": [
    "predictions = network.predict(test_data)\n",
    "\n",
    "my_accuracy(test_data, test_targets, .05, predictions)\n",
    "\n",
    "my_accuracy(test_data, test_targets, .1, predictions)"
   ]
  },
  {
   "cell_type": "code",
   "execution_count": 36,
   "id": "c115d039",
   "metadata": {
    "tags": []
   },
   "outputs": [
    {
     "name": "stdout",
     "output_type": "stream",
     "text": [
      "Epoch 1/30\n",
      "938/938 [==============================] - 2s 2ms/step - loss: 0.0251 - accuracy: 0.0000e+00\n",
      "Epoch 2/30\n",
      "938/938 [==============================] - 2s 2ms/step - loss: 0.0207 - accuracy: 0.0000e+00\n",
      "Epoch 3/30\n",
      "938/938 [==============================] - 2s 2ms/step - loss: 0.0203 - accuracy: 0.0000e+00\n",
      "Epoch 4/30\n",
      "938/938 [==============================] - 2s 2ms/step - loss: 0.0200 - accuracy: 0.0000e+00\n",
      "Epoch 5/30\n",
      "938/938 [==============================] - 2s 2ms/step - loss: 0.0199 - accuracy: 0.0000e+00\n",
      "Epoch 6/30\n",
      "938/938 [==============================] - 2s 2ms/step - loss: 0.0199 - accuracy: 0.0000e+00\n",
      "Epoch 7/30\n",
      "938/938 [==============================] - 2s 2ms/step - loss: 0.0198 - accuracy: 0.0000e+00\n",
      "Epoch 8/30\n",
      "938/938 [==============================] - 2s 2ms/step - loss: 0.0197 - accuracy: 0.0000e+00\n",
      "Epoch 9/30\n",
      "938/938 [==============================] - 2s 2ms/step - loss: 0.0197 - accuracy: 0.0000e+00\n",
      "Epoch 10/30\n",
      "938/938 [==============================] - 2s 2ms/step - loss: 0.0197 - accuracy: 0.0000e+00\n",
      "Epoch 11/30\n",
      "938/938 [==============================] - 2s 2ms/step - loss: 0.0197 - accuracy: 0.0000e+00\n",
      "Epoch 12/30\n",
      "938/938 [==============================] - 2s 2ms/step - loss: 0.0197 - accuracy: 0.0000e+00\n",
      "Epoch 13/30\n",
      "938/938 [==============================] - 2s 2ms/step - loss: 0.0196 - accuracy: 0.0000e+00\n",
      "Epoch 14/30\n",
      "938/938 [==============================] - 2s 2ms/step - loss: 0.0196 - accuracy: 0.0000e+00\n",
      "Epoch 15/30\n",
      "938/938 [==============================] - 2s 2ms/step - loss: 0.0196 - accuracy: 0.0000e+00\n",
      "Epoch 16/30\n",
      "938/938 [==============================] - 2s 2ms/step - loss: 0.0196 - accuracy: 0.0000e+00\n",
      "Epoch 17/30\n",
      "938/938 [==============================] - 2s 2ms/step - loss: 0.0196 - accuracy: 0.0000e+00\n",
      "Epoch 18/30\n",
      "938/938 [==============================] - 2s 2ms/step - loss: 0.0195 - accuracy: 0.0000e+00\n",
      "Epoch 19/30\n",
      "938/938 [==============================] - 2s 2ms/step - loss: 0.0196 - accuracy: 0.0000e+00\n",
      "Epoch 20/30\n",
      "938/938 [==============================] - 2s 2ms/step - loss: 0.0195 - accuracy: 0.0000e+00\n",
      "Epoch 21/30\n",
      "938/938 [==============================] - 2s 2ms/step - loss: 0.0195 - accuracy: 0.0000e+00\n",
      "Epoch 22/30\n",
      "938/938 [==============================] - 2s 2ms/step - loss: 0.0195 - accuracy: 0.0000e+00\n",
      "Epoch 23/30\n",
      "938/938 [==============================] - 2s 3ms/step - loss: 0.0195 - accuracy: 0.0000e+00\n",
      "Epoch 24/30\n",
      "938/938 [==============================] - 2s 3ms/step - loss: 0.0195 - accuracy: 0.0000e+00\n",
      "Epoch 25/30\n",
      "938/938 [==============================] - 2s 2ms/step - loss: 0.0195 - accuracy: 0.0000e+00\n",
      "Epoch 26/30\n",
      "938/938 [==============================] - 2s 2ms/step - loss: 0.0195 - accuracy: 0.0000e+00\n",
      "Epoch 27/30\n",
      "938/938 [==============================] - 2s 2ms/step - loss: 0.0195 - accuracy: 0.0000e+00\n",
      "Epoch 28/30\n",
      "938/938 [==============================] - 2s 2ms/step - loss: 0.0195 - accuracy: 0.0000e+00\n",
      "Epoch 29/30\n",
      "938/938 [==============================] - 2s 2ms/step - loss: 0.0195 - accuracy: 0.0000e+00\n",
      "Epoch 30/30\n",
      "938/938 [==============================] - 2s 2ms/step - loss: 0.0194 - accuracy: 0.0000e+00\n"
     ]
    }
   ],
   "source": [
    "history = network.fit(train_data, train_targets, epochs=30)"
   ]
  },
  {
   "cell_type": "code",
   "execution_count": 37,
   "id": "6f71d7f2",
   "metadata": {
    "tags": []
   },
   "outputs": [
    {
     "data": {
      "image/png": "[encoded data removed]",
      "text/plain": [
       "<Figure size 864x288 with 2 Axes>"
      ]
     },
     "metadata": {
      "needs_background": "light"
     },
     "output_type": "display_data"
    }
   ],
   "source": [
    "plot_history(history)"
   ]
  },
  {
   "cell_type": "code",
   "execution_count": 38,
   "id": "1cb816b3",
   "metadata": {
    "tags": []
   },
   "outputs": [
    {
     "name": "stdout",
     "output_type": "stream",
     "text": [
      "27.525\n",
      "40.9\n",
      "52.025\n",
      "92.125\n"
     ]
    }
   ],
   "source": [
    "predictions = network.predict(test_data)\n",
    "\n",
    "my_accuracy(test_data, test_targets, .05, predictions)\n",
    "my_accuracy(test_data, test_targets, .075, predictions)\n",
    "my_accuracy(test_data, test_targets, .1, predictions)\n",
    "my_accuracy(test_data, test_targets, .25, predictions)"
   ]
  },
  {
   "cell_type": "markdown",
   "id": "a705de22",
   "metadata": {
    "tags": []
   },
   "source": [
    "#### I consider within 5% to be correct, which would mean this network has an accuracy of around 30%\n",
    "#### Even so, as the tolerance is relaxed the networks performance improves drastically and with a tolerance of 25% is around 90% accurate"
   ]
  },
  {
   "cell_type": "markdown",
   "id": "eda14463",
   "metadata": {
    "tags": []
   },
   "source": [
    "## Part 2: Predicting the outcome of every game in the 2018-2019 English Premier League by looking at the competing teams' data from the 2017-2018 season"
   ]
  },
  {
   "cell_type": "code",
   "execution_count": 39,
   "id": "7261775f",
   "metadata": {
    "tags": []
   },
   "outputs": [],
   "source": [
    "sData, sResult = read_dataset(\"NN4Data.txt\", \"NN4Targets.txt\")\n",
    "training_set, training_targets = sData[0:200], sResult[0:200] \n",
    "testing_set, testing_targets = sData[200:380],sResult[200:380]\n",
    "\n",
    "train_data = np.array(training_set)\n",
    "train_data = train_data / 38\n",
    "train_targets = np.array(training_targets)\n",
    "train_targets = to_categorical(train_targets)\n",
    "\n",
    "test_data = np.array(testing_set)\n",
    "test_data = test_data / 38\n",
    "test_targets = np.array(testing_targets)\n",
    "test_targets = to_categorical(test_targets)"
   ]
  },
  {
   "cell_type": "markdown",
   "id": "dd9670a5",
   "metadata": {
    "tags": []
   },
   "source": [
    "#### There are 20 teams in the English Premier League and every team plays each other leading to 380 games total"
   ]
  },
  {
   "cell_type": "code",
   "execution_count": 40,
   "id": "33f48665",
   "metadata": {
    "tags": []
   },
   "outputs": [
    {
     "data": {
      "text/plain": [
       "(array([[ 1.78947368,  0.73684211, 13.5       , ...,  9.65789474,\n",
       "          5.34210526,  5.68421053],\n",
       "        [ 1.18421053,  1.60526316, 12.28947368, ..., 15.23684211,\n",
       "          5.92105263,  3.63157895],\n",
       "        [ 2.07894737,  1.21052632, 16.73684211, ..., 10.89473684,\n",
       "          5.5       ,  5.5       ],\n",
       "        ...,\n",
       "        [ 1.78947368,  0.73684211, 13.5       , ..., 11.55263158,\n",
       "          5.73684211,  5.57894737],\n",
       "        [ 1.18421053,  1.44736842, 12.5       , ..., 10.97368421,\n",
       "          6.05263158,  4.18421053],\n",
       "        [ 0.97368421,  1.47368421, 11.86842105, ...,  9.63157895,\n",
       "          7.47368421,  2.71052632]]),\n",
       " (200, 20))"
      ]
     },
     "execution_count": 40,
     "metadata": {},
     "output_type": "execute_result"
    }
   ],
   "source": [
    "train_data, train_data.shape"
   ]
  },
  {
   "cell_type": "markdown",
   "id": "65658db1",
   "metadata": {
    "tags": []
   },
   "source": [
    "##### There are now 20 data points, 10 for each team competing\n",
    "##### Examples of data points are goals per game, goals allowed per game, shots per game..."
   ]
  },
  {
   "cell_type": "code",
   "execution_count": 41,
   "id": "32577ae7",
   "metadata": {
    "tags": []
   },
   "outputs": [
    {
     "data": {
      "text/plain": [
       "(200, 3)"
      ]
     },
     "execution_count": 41,
     "metadata": {},
     "output_type": "execute_result"
    }
   ],
   "source": [
    "train_targets.shape"
   ]
  },
  {
   "cell_type": "code",
   "execution_count": 42,
   "id": "f112434f",
   "metadata": {
    "tags": []
   },
   "outputs": [],
   "source": [
    "network = Sequential()\n",
    "network.add(Flatten(input_shape=(20,)))\n",
    "network.add(Dense(10, activation='relu', name='hidden', input_shape=(20,)))\n",
    "network.add(Dense(3, activation='softmax', name='output'))"
   ]
  },
  {
   "cell_type": "code",
   "execution_count": 43,
   "id": "3e1cc269",
   "metadata": {
    "tags": []
   },
   "outputs": [],
   "source": [
    "network.compile(loss='categorical_crossentropy', optimizer='sgd', metrics=['accuracy']) #'mean_squared_error'"
   ]
  },
  {
   "cell_type": "code",
   "execution_count": 44,
   "id": "6a58f041",
   "metadata": {
    "tags": []
   },
   "outputs": [
    {
     "name": "stdout",
     "output_type": "stream",
     "text": [
      "Model: \"sequential_3\"\n",
      "_________________________________________________________________\n",
      "Layer (type)                 Output Shape              Param #   \n",
      "=================================================================\n",
      "flatten_3 (Flatten)          (None, 20)                0         \n",
      "_________________________________________________________________\n",
      "hidden (Dense)               (None, 10)                210       \n",
      "_________________________________________________________________\n",
      "output (Dense)               (None, 3)                 33        \n",
      "=================================================================\n",
      "Total params: 243\n",
      "Trainable params: 243\n",
      "Non-trainable params: 0\n",
      "_________________________________________________________________\n"
     ]
    }
   ],
   "source": [
    "network.summary()"
   ]
  },
  {
   "cell_type": "code",
   "execution_count": 45,
   "id": "0b8686eb",
   "metadata": {
    "tags": []
   },
   "outputs": [
    {
     "name": "stdout",
     "output_type": "stream",
     "text": [
      "6/6 [==============================] - 1s 2ms/step - loss: 6.1705 - accuracy: 0.3165\n"
     ]
    },
    {
     "data": {
      "text/plain": [
       "[6.083376884460449, 0.3222222328186035]"
      ]
     },
     "execution_count": 45,
     "metadata": {},
     "output_type": "execute_result"
    }
   ],
   "source": [
    "network.evaluate(test_data,test_targets)"
   ]
  },
  {
   "cell_type": "code",
   "execution_count": 46,
   "id": "67ca95da",
   "metadata": {
    "tags": []
   },
   "outputs": [
    {
     "name": "stdout",
     "output_type": "stream",
     "text": [
      "Epoch 1/15\n",
      "25/25 [==============================] - 1s 2ms/step - loss: 1.8285 - accuracy: 0.3950\n",
      "Epoch 2/15\n",
      "25/25 [==============================] - 0s 2ms/step - loss: 1.1803 - accuracy: 0.3800\n",
      "Epoch 3/15\n",
      "25/25 [==============================] - 0s 2ms/step - loss: 1.1057 - accuracy: 0.4050\n",
      "Epoch 4/15\n",
      "25/25 [==============================] - 0s 2ms/step - loss: 1.0942 - accuracy: 0.4500\n",
      "Epoch 5/15\n",
      "25/25 [==============================] - 0s 2ms/step - loss: 1.0796 - accuracy: 0.4050\n",
      "Epoch 6/15\n",
      "25/25 [==============================] - 0s 2ms/step - loss: 1.0532 - accuracy: 0.4600\n",
      "Epoch 7/15\n",
      "25/25 [==============================] - 0s 2ms/step - loss: 1.0495 - accuracy: 0.4850\n",
      "Epoch 8/15\n",
      "25/25 [==============================] - 0s 2ms/step - loss: 1.0323 - accuracy: 0.4850\n",
      "Epoch 9/15\n",
      "25/25 [==============================] - 0s 2ms/step - loss: 1.0172 - accuracy: 0.5150\n",
      "Epoch 10/15\n",
      "25/25 [==============================] - 0s 2ms/step - loss: 1.0228 - accuracy: 0.5050\n",
      "Epoch 11/15\n",
      "25/25 [==============================] - 0s 2ms/step - loss: 1.0133 - accuracy: 0.5150\n",
      "Epoch 12/15\n",
      "25/25 [==============================] - 0s 2ms/step - loss: 1.0128 - accuracy: 0.5200\n",
      "Epoch 13/15\n",
      "25/25 [==============================] - 0s 2ms/step - loss: 0.9872 - accuracy: 0.5250\n",
      "Epoch 14/15\n",
      "25/25 [==============================] - 0s 2ms/step - loss: 0.9957 - accuracy: 0.5200\n",
      "Epoch 15/15\n",
      "25/25 [==============================] - 0s 2ms/step - loss: 0.9795 - accuracy: 0.5650\n"
     ]
    }
   ],
   "source": [
    "history = network.fit(train_data, train_targets, epochs=15,batch_size=8)"
   ]
  },
  {
   "cell_type": "code",
   "execution_count": 47,
   "id": "a3fa3444",
   "metadata": {
    "tags": []
   },
   "outputs": [
    {
     "data": {
      "image/png": "[encoded data removed]",
      "text/plain": [
       "<Figure size 864x288 with 2 Axes>"
      ]
     },
     "metadata": {
      "needs_background": "light"
     },
     "output_type": "display_data"
    }
   ],
   "source": [
    "plot_history(history)"
   ]
  },
  {
   "cell_type": "code",
   "execution_count": 48,
   "id": "41c51c40",
   "metadata": {
    "tags": []
   },
   "outputs": [
    {
     "name": "stdout",
     "output_type": "stream",
     "text": [
      "7/7 [==============================] - 0s 2ms/step - loss: 0.9583 - accuracy: 0.5500\n"
     ]
    },
    {
     "data": {
      "text/plain": [
       "[0.9583464860916138, 0.550000011920929]"
      ]
     },
     "execution_count": 48,
     "metadata": {},
     "output_type": "execute_result"
    }
   ],
   "source": [
    "network.evaluate(train_data,train_targets)"
   ]
  },
  {
   "cell_type": "code",
   "execution_count": 49,
   "id": "6294a667",
   "metadata": {
    "tags": []
   },
   "outputs": [
    {
     "name": "stdout",
     "output_type": "stream",
     "text": [
      "6/6 [==============================] - 0s 2ms/step - loss: 0.9620 - accuracy: 0.5111\n"
     ]
    },
    {
     "data": {
      "text/plain": [
       "[0.9619849324226379, 0.5111111402511597]"
      ]
     },
     "execution_count": 49,
     "metadata": {},
     "output_type": "execute_result"
    }
   ],
   "source": [
    "network.evaluate(test_data, test_targets)"
   ]
  },
  {
   "cell_type": "markdown",
   "id": "51863ad3",
   "metadata": {
    "tags": []
   },
   "source": [
    "#### Predicted the season around 50% accurately"
   ]
  },
  {
   "cell_type": "code",
   "execution_count": 50,
   "id": "515c0114",
   "metadata": {
    "tags": []
   },
   "outputs": [
    {
     "name": "stdout",
     "output_type": "stream",
     "text": [
      "network misclassified game #163 as '1'\n",
      "The correct answer is '0'\n"
     ]
    }
   ],
   "source": [
    "outputs = network.predict(test_data)\n",
    "\n",
    "show_result(random.randrange(180))"
   ]
  },
  {
   "cell_type": "markdown",
   "id": "4abb6a8c",
   "metadata": {
    "tags": []
   },
   "source": [
    "### Now adding 7 more european leagues:"
   ]
  },
  {
   "cell_type": "code",
   "execution_count": 51,
   "id": "77b49458",
   "metadata": {
    "tags": []
   },
   "outputs": [],
   "source": [
    "sData, sResult = read_dataset(\"NN6Data.txt\", \"NN7Targets.txt\")\n",
    "training_set, training_targets = sData[0:3000], sResult[0:3000] \n",
    "testing_set, testing_targets = sData[3000:4197],sResult[3000:4197]\n",
    "\n",
    "train_data = np.array(training_set)\n",
    "train_data = train_data / 38\n",
    "train_targets = np.array(training_targets)\n",
    "train_targets = to_categorical(train_targets)\n",
    "\n",
    "test_data = np.array(testing_set)\n",
    "test_data = test_data / 38\n",
    "test_targets = np.array(testing_targets)\n",
    "test_targets = to_categorical(test_targets)"
   ]
  },
  {
   "cell_type": "code",
   "execution_count": 52,
   "id": "9cdc6fc5",
   "metadata": {
    "tags": []
   },
   "outputs": [
    {
     "data": {
      "text/plain": [
       "(array([[ 1.26315789,  1.84210526, 11.97368421, ..., 13.34210526,\n",
       "          6.10526316,  6.97368421],\n",
       "        [ 0.76315789,  1.39473684, 10.47368421, ..., 11.97368421,\n",
       "          5.13157895,  3.65789474],\n",
       "        [ 1.5       ,  1.57894737, 12.31578947, ..., 12.44736842,\n",
       "          7.5       ,  4.81578947],\n",
       "        ...,\n",
       "        [ 1.15789474,  1.31578947, 12.52631579, ..., 15.02631579,\n",
       "          4.02631579,  5.10526316],\n",
       "        [ 1.57894737,  1.60526316, 10.92105263, ..., 13.55263158,\n",
       "          4.76315789,  4.73684211],\n",
       "        [ 1.15789474,  1.52631579,  9.47368421, ...,  8.52631579,\n",
       "          6.05263158,  3.31578947]]),\n",
       " (3000, 20))"
      ]
     },
     "execution_count": 52,
     "metadata": {},
     "output_type": "execute_result"
    }
   ],
   "source": [
    "train_data, train_data.shape"
   ]
  },
  {
   "cell_type": "code",
   "execution_count": 53,
   "id": "906815d4",
   "metadata": {
    "tags": []
   },
   "outputs": [
    {
     "data": {
      "text/plain": [
       "(array([[0., 1., 0.],\n",
       "        [0., 1., 0.],\n",
       "        [0., 0., 1.],\n",
       "        ...,\n",
       "        [1., 0., 0.],\n",
       "        [0., 1., 0.],\n",
       "        [0., 0., 1.]], dtype=float32),\n",
       " (3000, 3))"
      ]
     },
     "execution_count": 53,
     "metadata": {},
     "output_type": "execute_result"
    }
   ],
   "source": [
    "train_targets, train_targets.shape"
   ]
  },
  {
   "cell_type": "code",
   "execution_count": 54,
   "id": "f2ea5a59",
   "metadata": {
    "tags": []
   },
   "outputs": [],
   "source": [
    "network = Sequential()\n",
    "network.add(Flatten(input_shape=(20,)))\n",
    "network.add(Dense(30, activation='relu', name='hidden', input_shape=(20,)))\n",
    "network.add(Dense(30, activation='relu', name='hidden2', input_shape=(20,)))\n",
    "network.add(Dense(3, activation='softmax', name='output'))"
   ]
  },
  {
   "cell_type": "code",
   "execution_count": 55,
   "id": "eb0fa94a",
   "metadata": {
    "tags": []
   },
   "outputs": [],
   "source": [
    "network.compile(loss='categorical_crossentropy', optimizer='sgd', metrics=['accuracy']) #'mean_squared_error'"
   ]
  },
  {
   "cell_type": "code",
   "execution_count": 56,
   "id": "4f7f3b1e",
   "metadata": {
    "tags": []
   },
   "outputs": [
    {
     "name": "stdout",
     "output_type": "stream",
     "text": [
      "Model: \"sequential_4\"\n",
      "_________________________________________________________________\n",
      "Layer (type)                 Output Shape              Param #   \n",
      "=================================================================\n",
      "flatten_4 (Flatten)          (None, 20)                0         \n",
      "_________________________________________________________________\n",
      "hidden (Dense)               (None, 30)                630       \n",
      "_________________________________________________________________\n",
      "hidden2 (Dense)              (None, 30)                930       \n",
      "_________________________________________________________________\n",
      "output (Dense)               (None, 3)                 93        \n",
      "=================================================================\n",
      "Total params: 1,653\n",
      "Trainable params: 1,653\n",
      "Non-trainable params: 0\n",
      "_________________________________________________________________\n"
     ]
    }
   ],
   "source": [
    "network.summary()"
   ]
  },
  {
   "cell_type": "code",
   "execution_count": 57,
   "id": "11fed467",
   "metadata": {
    "tags": []
   },
   "outputs": [
    {
     "name": "stdout",
     "output_type": "stream",
     "text": [
      "38/38 [==============================] - 0s 3ms/step - loss: 1.7603 - accuracy: 0.2945\n"
     ]
    },
    {
     "data": {
      "text/plain": [
       "[1.7141402959823608, 0.2882205545902252]"
      ]
     },
     "execution_count": 57,
     "metadata": {},
     "output_type": "execute_result"
    }
   ],
   "source": [
    "network.evaluate(test_data,test_targets)"
   ]
  },
  {
   "cell_type": "code",
   "execution_count": 58,
   "id": "7df160cd",
   "metadata": {
    "tags": []
   },
   "outputs": [
    {
     "name": "stdout",
     "output_type": "stream",
     "text": [
      "Epoch 1/50\n",
      "94/94 [==============================] - 1s 3ms/step - loss: 1.3044 - accuracy: 0.4123\n",
      "Epoch 2/50\n",
      "94/94 [==============================] - 0s 2ms/step - loss: 1.0650 - accuracy: 0.4513\n",
      "Epoch 3/50\n",
      "94/94 [==============================] - 0s 2ms/step - loss: 1.0466 - accuracy: 0.4580\n",
      "Epoch 4/50\n",
      "94/94 [==============================] - 0s 3ms/step - loss: 1.0452 - accuracy: 0.4560\n",
      "Epoch 5/50\n",
      "94/94 [==============================] - 0s 2ms/step - loss: 1.0434 - accuracy: 0.4557\n",
      "Epoch 6/50\n",
      "94/94 [==============================] - 0s 2ms/step - loss: 1.0381 - accuracy: 0.4650\n",
      "Epoch 7/50\n",
      "94/94 [==============================] - 0s 2ms/step - loss: 1.0420 - accuracy: 0.4613\n",
      "Epoch 8/50\n",
      "94/94 [==============================] - 0s 2ms/step - loss: 1.0399 - accuracy: 0.4577\n",
      "Epoch 9/50\n",
      "94/94 [==============================] - 0s 2ms/step - loss: 1.0390 - accuracy: 0.4660\n",
      "Epoch 10/50\n",
      "94/94 [==============================] - 0s 3ms/step - loss: 1.0357 - accuracy: 0.4743\n",
      "Epoch 11/50\n",
      "94/94 [==============================] - 0s 2ms/step - loss: 1.0368 - accuracy: 0.4613\n",
      "Epoch 12/50\n",
      "94/94 [==============================] - 0s 2ms/step - loss: 1.0354 - accuracy: 0.4663\n",
      "Epoch 13/50\n",
      "94/94 [==============================] - 0s 2ms/step - loss: 1.0342 - accuracy: 0.4720\n",
      "Epoch 14/50\n",
      "94/94 [==============================] - 0s 2ms/step - loss: 1.0339 - accuracy: 0.4673\n",
      "Epoch 15/50\n",
      "94/94 [==============================] - 0s 2ms/step - loss: 1.0359 - accuracy: 0.4593\n",
      "Epoch 16/50\n",
      "94/94 [==============================] - 0s 2ms/step - loss: 1.0344 - accuracy: 0.4560\n",
      "Epoch 17/50\n",
      "94/94 [==============================] - 0s 2ms/step - loss: 1.0344 - accuracy: 0.4650\n",
      "Epoch 18/50\n",
      "94/94 [==============================] - 0s 2ms/step - loss: 1.0332 - accuracy: 0.4680\n",
      "Epoch 19/50\n",
      "94/94 [==============================] - 0s 2ms/step - loss: 1.0327 - accuracy: 0.4643\n",
      "Epoch 20/50\n",
      "94/94 [==============================] - 0s 2ms/step - loss: 1.0342 - accuracy: 0.4640\n",
      "Epoch 21/50\n",
      "94/94 [==============================] - 0s 2ms/step - loss: 1.0335 - accuracy: 0.4620\n",
      "Epoch 22/50\n",
      "94/94 [==============================] - 0s 2ms/step - loss: 1.0316 - accuracy: 0.4757\n",
      "Epoch 23/50\n",
      "94/94 [==============================] - 0s 2ms/step - loss: 1.0306 - accuracy: 0.4667\n",
      "Epoch 24/50\n",
      "94/94 [==============================] - 0s 2ms/step - loss: 1.0323 - accuracy: 0.4620\n",
      "Epoch 25/50\n",
      "94/94 [==============================] - 0s 2ms/step - loss: 1.0298 - accuracy: 0.4657\n",
      "Epoch 26/50\n",
      "94/94 [==============================] - 0s 2ms/step - loss: 1.0290 - accuracy: 0.4710\n",
      "Epoch 27/50\n",
      "94/94 [==============================] - 0s 2ms/step - loss: 1.0338 - accuracy: 0.4687\n",
      "Epoch 28/50\n",
      "94/94 [==============================] - 0s 2ms/step - loss: 1.0309 - accuracy: 0.4707\n",
      "Epoch 29/50\n",
      "94/94 [==============================] - 0s 2ms/step - loss: 1.0300 - accuracy: 0.4663\n",
      "Epoch 30/50\n",
      "94/94 [==============================] - 0s 2ms/step - loss: 1.0297 - accuracy: 0.4750\n",
      "Epoch 31/50\n",
      "94/94 [==============================] - 0s 2ms/step - loss: 1.0303 - accuracy: 0.4700\n",
      "Epoch 32/50\n",
      "94/94 [==============================] - 0s 2ms/step - loss: 1.0297 - accuracy: 0.4640\n",
      "Epoch 33/50\n",
      "94/94 [==============================] - 0s 3ms/step - loss: 1.0282 - accuracy: 0.4687\n",
      "Epoch 34/50\n",
      "94/94 [==============================] - 0s 2ms/step - loss: 1.0292 - accuracy: 0.4633\n",
      "Epoch 35/50\n",
      "94/94 [==============================] - 0s 2ms/step - loss: 1.0291 - accuracy: 0.4723\n",
      "Epoch 36/50\n",
      "94/94 [==============================] - 0s 2ms/step - loss: 1.0300 - accuracy: 0.4697\n",
      "Epoch 37/50\n",
      "94/94 [==============================] - 0s 2ms/step - loss: 1.0308 - accuracy: 0.4693\n",
      "Epoch 38/50\n",
      "94/94 [==============================] - 0s 2ms/step - loss: 1.0279 - accuracy: 0.4723\n",
      "Epoch 39/50\n",
      "94/94 [==============================] - 0s 2ms/step - loss: 1.0270 - accuracy: 0.4607\n",
      "Epoch 40/50\n",
      "94/94 [==============================] - 0s 2ms/step - loss: 1.0278 - accuracy: 0.4680\n",
      "Epoch 41/50\n",
      "94/94 [==============================] - 0s 2ms/step - loss: 1.0285 - accuracy: 0.4777\n",
      "Epoch 42/50\n",
      "94/94 [==============================] - 0s 2ms/step - loss: 1.0278 - accuracy: 0.4760\n",
      "Epoch 43/50\n",
      "94/94 [==============================] - 0s 2ms/step - loss: 1.0287 - accuracy: 0.4650\n",
      "Epoch 44/50\n",
      "94/94 [==============================] - 0s 2ms/step - loss: 1.0267 - accuracy: 0.4667\n",
      "Epoch 45/50\n",
      "94/94 [==============================] - 0s 2ms/step - loss: 1.0283 - accuracy: 0.4680\n",
      "Epoch 46/50\n",
      "94/94 [==============================] - 0s 3ms/step - loss: 1.0276 - accuracy: 0.4657\n",
      "Epoch 47/50\n",
      "94/94 [==============================] - 0s 2ms/step - loss: 1.0259 - accuracy: 0.4743\n",
      "Epoch 48/50\n",
      "94/94 [==============================] - 0s 2ms/step - loss: 1.0253 - accuracy: 0.4720\n",
      "Epoch 49/50\n",
      "94/94 [==============================] - 0s 2ms/step - loss: 1.0271 - accuracy: 0.4700\n",
      "Epoch 50/50\n",
      "94/94 [==============================] - 0s 1ms/step - loss: 1.0282 - accuracy: 0.4677\n"
     ]
    }
   ],
   "source": [
    "history = network.fit(train_data, train_targets, epochs=50)"
   ]
  },
  {
   "cell_type": "code",
   "execution_count": 59,
   "id": "23807c53",
   "metadata": {
    "tags": []
   },
   "outputs": [
    {
     "data": {
      "image/png": "[encoded data removed]",
      "text/plain": [
       "<Figure size 864x288 with 2 Axes>"
      ]
     },
     "metadata": {
      "needs_background": "light"
     },
     "output_type": "display_data"
    }
   ],
   "source": [
    "plot_history(history)"
   ]
  },
  {
   "cell_type": "code",
   "execution_count": 60,
   "id": "1a292868",
   "metadata": {
    "tags": []
   },
   "outputs": [
    {
     "name": "stdout",
     "output_type": "stream",
     "text": [
      "94/94 [==============================] - 0s 1ms/step - loss: 1.0200 - accuracy: 0.4713\n"
     ]
    },
    {
     "data": {
      "text/plain": [
       "[1.019955039024353, 0.4713333249092102]"
      ]
     },
     "execution_count": 60,
     "metadata": {},
     "output_type": "execute_result"
    }
   ],
   "source": [
    "network.evaluate(train_data,train_targets)"
   ]
  },
  {
   "cell_type": "code",
   "execution_count": 61,
   "id": "d06ef4c2",
   "metadata": {
    "tags": []
   },
   "outputs": [
    {
     "name": "stdout",
     "output_type": "stream",
     "text": [
      "38/38 [==============================] - 0s 1ms/step - loss: 1.0247 - accuracy: 0.4979\n"
     ]
    },
    {
     "data": {
      "text/plain": [
       "[1.0247248411178589, 0.4979114532470703]"
      ]
     },
     "execution_count": 61,
     "metadata": {},
     "output_type": "execute_result"
    }
   ],
   "source": [
    "network.evaluate(test_data, test_targets)"
   ]
  },
  {
   "cell_type": "markdown",
   "id": "2ce4855e",
   "metadata": {
    "tags": []
   },
   "source": [
    "#### Predicted the seasons around 48% accurately"
   ]
  },
  {
   "cell_type": "code",
   "execution_count": 62,
   "id": "fc721197",
   "metadata": {
    "tags": []
   },
   "outputs": [
    {
     "name": "stdout",
     "output_type": "stream",
     "text": [
      "network misclassified game #1094 as '0'\n",
      "The correct answer is '1'\n"
     ]
    }
   ],
   "source": [
    "outputs = network.predict(test_data)\n",
    "\n",
    "show_result(random.randrange(len(test_targets)))"
   ]
  },
  {
   "cell_type": "markdown",
   "id": "caf28d60",
   "metadata": {
    "tags": []
   },
   "source": [
    "##### Same problem as before not predicting draws"
   ]
  },
  {
   "cell_type": "markdown",
   "id": "006cd266",
   "metadata": {
    "tags": []
   },
   "source": [
    "## Part 3: Using Regression To Determine a Percentage Chance That the Home Team Will Win"
   ]
  },
  {
   "cell_type": "code",
   "execution_count": 63,
   "id": "a3f0aed6",
   "metadata": {
    "tags": []
   },
   "outputs": [],
   "source": [
    "sData, sResult = read_dataset(\"NN4Data.txt\", \"NN5Targets.txt\")\n",
    "training_set, training_targets = sData[0:200], sResult[0:200] #\n",
    "testing_set, testing_targets = sData[200:380],sResult[200:380]\n",
    "\n",
    "train_data = np.array(training_set)\n",
    "train_data = train_data / 38\n",
    "train_targets = np.array(training_targets)\n",
    "train_targets = train_targets / 100\n",
    "\n",
    "test_data = np.array(testing_set)\n",
    "test_data = test_data / 38\n",
    "test_targets = np.array(testing_targets)\n",
    "test_targets = test_targets / 100"
   ]
  },
  {
   "cell_type": "code",
   "execution_count": 64,
   "id": "44e5aa67",
   "metadata": {
    "tags": []
   },
   "outputs": [
    {
     "data": {
      "text/plain": [
       "(array([[ 1.78947368,  0.73684211, 13.5       , ...,  9.65789474,\n",
       "          5.34210526,  5.68421053],\n",
       "        [ 1.18421053,  1.60526316, 12.28947368, ..., 15.23684211,\n",
       "          5.92105263,  3.63157895],\n",
       "        [ 2.07894737,  1.21052632, 16.73684211, ..., 10.89473684,\n",
       "          5.5       ,  5.5       ],\n",
       "        ...,\n",
       "        [ 1.78947368,  0.73684211, 13.5       , ..., 11.55263158,\n",
       "          5.73684211,  5.57894737],\n",
       "        [ 1.18421053,  1.44736842, 12.5       , ..., 10.97368421,\n",
       "          6.05263158,  4.18421053],\n",
       "        [ 0.97368421,  1.47368421, 11.86842105, ...,  9.63157895,\n",
       "          7.47368421,  2.71052632]]),\n",
       " (200, 20))"
      ]
     },
     "execution_count": 64,
     "metadata": {},
     "output_type": "execute_result"
    }
   ],
   "source": [
    "train_data, train_data.shape"
   ]
  },
  {
   "cell_type": "code",
   "execution_count": 65,
   "id": "18da0938",
   "metadata": {
    "tags": []
   },
   "outputs": [
    {
     "data": {
      "text/plain": [
       "(array([0.13, 0.5 , 0.75, 0.5 , 0.51, 0.17, 0.47, 0.78, 0.38, 0.49, 0.29,\n",
       "        0.51, 0.44, 0.82, 0.44, 0.42, 0.09, 0.49, 0.57, 0.85, 0.83, 0.42,\n",
       "        0.32, 0.77, 0.51, 0.36, 0.61, 0.42, 0.19, 0.05, 0.82, 0.48, 0.42,\n",
       "        0.25, 0.05, 0.78, 0.6 , 0.42, 0.82, 0.19, 0.49, 0.83, 0.31, 0.39,\n",
       "        0.39, 0.69, 0.42, 0.75, 0.28, 0.12, 0.1 , 0.49, 0.18, 0.43, 0.57,\n",
       "        0.82, 0.17, 0.48, 0.67, 0.59, 0.59, 0.32, 0.51, 0.35, 0.17, 0.55,\n",
       "        0.44, 0.67, 0.32, 0.47, 0.53, 0.2 , 0.27, 0.31, 0.86, 0.53, 0.43,\n",
       "        0.69, 0.78, 0.54, 0.36, 0.69, 0.49, 0.47, 0.67, 0.08, 0.39, 0.15,\n",
       "        0.17, 0.22, 0.36, 0.86, 0.64, 0.29, 0.55, 0.28, 0.42, 0.65, 0.86,\n",
       "        0.49, 0.32, 0.65, 0.08, 0.25, 0.54, 0.69, 0.39, 0.31, 0.39, 0.05,\n",
       "        0.69, 0.11, 0.62, 0.74, 0.25, 0.58, 0.69, 0.94, 0.8 , 0.11, 0.48,\n",
       "        0.2 , 0.38, 0.33, 0.75, 0.6 , 0.82, 0.38, 0.71, 0.53, 0.2 , 0.43,\n",
       "        0.09, 0.6 , 0.31, 0.5 , 0.61, 0.77, 0.39, 0.3 , 0.57, 0.23, 0.31,\n",
       "        0.06, 0.65, 0.8 , 0.78, 0.44, 0.34, 0.13, 0.93, 0.43, 0.38, 0.71,\n",
       "        0.42, 0.38, 0.53, 0.37, 0.36, 0.04, 0.6 , 0.38, 0.25, 0.65, 0.11,\n",
       "        0.43, 0.71, 0.71, 0.09, 0.89, 0.44, 0.45, 0.69, 0.78, 0.77, 0.42,\n",
       "        0.4 , 0.53, 0.31, 0.05]),\n",
       " (180, 20))"
      ]
     },
     "execution_count": 65,
     "metadata": {},
     "output_type": "execute_result"
    }
   ],
   "source": [
    "test_targets, test_data.shape"
   ]
  },
  {
   "cell_type": "code",
   "execution_count": 66,
   "id": "9e77c2c1",
   "metadata": {
    "tags": []
   },
   "outputs": [],
   "source": [
    "network = Sequential()\n",
    "network.add(Flatten(input_shape=(20,)))\n",
    "network.add(Dense(30, activation='relu', name='hidden', input_shape=(20,)))\n",
    "network.add(Dense(30, activation='relu', name='hidden2', input_shape=(20,)))\n",
    "network.add(Dense(10, activation='relu', name='hidden4', input_shape=(20,)))\n",
    "network.add(Dense(1, activation='sigmoid', name='output'))"
   ]
  },
  {
   "cell_type": "code",
   "execution_count": 67,
   "id": "495d904a",
   "metadata": {
    "tags": []
   },
   "outputs": [],
   "source": [
    "network.compile(loss='mean_squared_error', optimizer='rmsprop', metrics=['accuracy']) #'mean_squared_error'"
   ]
  },
  {
   "cell_type": "code",
   "execution_count": 68,
   "id": "c1f046fb",
   "metadata": {
    "tags": []
   },
   "outputs": [
    {
     "name": "stdout",
     "output_type": "stream",
     "text": [
      "Model: \"sequential_5\"\n",
      "_________________________________________________________________\n",
      "Layer (type)                 Output Shape              Param #   \n",
      "=================================================================\n",
      "flatten_5 (Flatten)          (None, 20)                0         \n",
      "_________________________________________________________________\n",
      "hidden (Dense)               (None, 30)                630       \n",
      "_________________________________________________________________\n",
      "hidden2 (Dense)              (None, 30)                930       \n",
      "_________________________________________________________________\n",
      "hidden4 (Dense)              (None, 10)                310       \n",
      "_________________________________________________________________\n",
      "output (Dense)               (None, 1)                 11        \n",
      "=================================================================\n",
      "Total params: 1,881\n",
      "Trainable params: 1,881\n",
      "Non-trainable params: 0\n",
      "_________________________________________________________________\n"
     ]
    }
   ],
   "source": [
    "network.summary()"
   ]
  },
  {
   "cell_type": "code",
   "execution_count": 69,
   "id": "7bc00353",
   "metadata": {
    "tags": []
   },
   "outputs": [
    {
     "name": "stdout",
     "output_type": "stream",
     "text": [
      "Epoch 1/75\n",
      "4/4 [==============================] - 1s 5ms/step - loss: 0.3150 - accuracy: 0.0000e+00\n",
      "Epoch 2/75\n",
      "4/4 [==============================] - 0s 2ms/step - loss: 0.1355 - accuracy: 0.0000e+00\n",
      "Epoch 3/75\n",
      "4/4 [==============================] - 0s 5ms/step - loss: 0.0510 - accuracy: 0.0000e+00\n",
      "Epoch 4/75\n",
      "4/4 [==============================] - 0s 6ms/step - loss: 0.0338 - accuracy: 0.0000e+00\n",
      "Epoch 5/75\n",
      "4/4 [==============================] - 0s 3ms/step - loss: 0.0253 - accuracy: 0.0000e+00\n",
      "Epoch 6/75\n",
      "4/4 [==============================] - 0s 5ms/step - loss: 0.0221 - accuracy: 0.0000e+00\n",
      "Epoch 7/75\n",
      "4/4 [==============================] - 0s 5ms/step - loss: 0.0236 - accuracy: 0.0000e+00\n",
      "Epoch 8/75\n",
      "4/4 [==============================] - 0s 5ms/step - loss: 0.0203 - accuracy: 0.0000e+00\n",
      "Epoch 9/75\n",
      "4/4 [==============================] - 0s 6ms/step - loss: 0.0205 - accuracy: 0.0000e+00\n",
      "Epoch 10/75\n",
      "4/4 [==============================] - 0s 0s/step - loss: 0.0222 - accuracy: 0.0000e+00\n",
      "Epoch 11/75\n",
      "4/4 [==============================] - 0s 4ms/step - loss: 0.0177 - accuracy: 0.0000e+00\n",
      "Epoch 12/75\n",
      "4/4 [==============================] - 0s 4ms/step - loss: 0.0227 - accuracy: 0.0000e+00\n",
      "Epoch 13/75\n",
      "4/4 [==============================] - 0s 4ms/step - loss: 0.0173 - accuracy: 0.0000e+00\n",
      "Epoch 14/75\n",
      "4/4 [==============================] - 0s 0s/step - loss: 0.0212 - accuracy: 0.0000e+00\n",
      "Epoch 15/75\n",
      "4/4 [==============================] - 0s 0s/step - loss: 0.0171 - accuracy: 0.0000e+00\n",
      "Epoch 16/75\n",
      "4/4 [==============================] - 0s 0s/step - loss: 0.0158 - accuracy: 0.0000e+00\n",
      "Epoch 17/75\n",
      "4/4 [==============================] - 0s 0s/step - loss: 0.0168 - accuracy: 0.0000e+00\n",
      "Epoch 18/75\n",
      "4/4 [==============================] - 0s 5ms/step - loss: 0.0201 - accuracy: 0.0000e+00\n",
      "Epoch 19/75\n",
      "4/4 [==============================] - 0s 3ms/step - loss: 0.0152 - accuracy: 0.0000e+00\n",
      "Epoch 20/75\n",
      "4/4 [==============================] - 0s 4ms/step - loss: 0.0193 - accuracy: 0.0000e+00\n",
      "Epoch 21/75\n",
      "4/4 [==============================] - 0s 5ms/step - loss: 0.0144 - accuracy: 0.0000e+00\n",
      "Epoch 22/75\n",
      "4/4 [==============================] - 0s 0s/step - loss: 0.0162 - accuracy: 0.0000e+00\n",
      "Epoch 23/75\n",
      "4/4 [==============================] - 0s 0s/step - loss: 0.0143 - accuracy: 0.0000e+00\n",
      "Epoch 24/75\n",
      "4/4 [==============================] - 0s 2ms/step - loss: 0.0170 - accuracy: 0.0000e+00\n",
      "Epoch 25/75\n",
      "4/4 [==============================] - 0s 5ms/step - loss: 0.0139 - accuracy: 0.0000e+00\n",
      "Epoch 26/75\n",
      "4/4 [==============================] - 0s 5ms/step - loss: 0.0203 - accuracy: 0.0000e+00\n",
      "Epoch 27/75\n",
      "4/4 [==============================] - 0s 4ms/step - loss: 0.0163 - accuracy: 0.0000e+00\n",
      "Epoch 28/75\n",
      "4/4 [==============================] - 0s 4ms/step - loss: 0.0136 - accuracy: 0.0000e+00\n",
      "Epoch 29/75\n",
      "4/4 [==============================] - 0s 5ms/step - loss: 0.0169 - accuracy: 0.0000e+00\n",
      "Epoch 30/75\n",
      "4/4 [==============================] - 0s 0s/step - loss: 0.0139 - accuracy: 0.0000e+00\n",
      "Epoch 31/75\n",
      "4/4 [==============================] - 0s 3ms/step - loss: 0.0193 - accuracy: 0.0000e+00\n",
      "Epoch 32/75\n",
      "4/4 [==============================] - 0s 5ms/step - loss: 0.0126 - accuracy: 0.0000e+00\n",
      "Epoch 33/75\n",
      "4/4 [==============================] - 0s 3ms/step - loss: 0.0136 - accuracy: 0.0000e+00\n",
      "Epoch 34/75\n",
      "4/4 [==============================] - 0s 5ms/step - loss: 0.0248 - accuracy: 0.0000e+00\n",
      "Epoch 35/75\n",
      "4/4 [==============================] - 0s 5ms/step - loss: 0.0121 - accuracy: 0.0000e+00\n",
      "Epoch 36/75\n",
      "4/4 [==============================] - 0s 3ms/step - loss: 0.0165 - accuracy: 0.0000e+00\n",
      "Epoch 37/75\n",
      "4/4 [==============================] - 0s 5ms/step - loss: 0.0174 - accuracy: 0.0000e+00\n",
      "Epoch 38/75\n",
      "4/4 [==============================] - 0s 1ms/step - loss: 0.0140 - accuracy: 0.0000e+00\n",
      "Epoch 39/75\n",
      "4/4 [==============================] - 0s 2ms/step - loss: 0.0142 - accuracy: 0.0000e+00\n",
      "Epoch 40/75\n",
      "4/4 [==============================] - 0s 3ms/step - loss: 0.0126 - accuracy: 0.0000e+00\n",
      "Epoch 41/75\n",
      "4/4 [==============================] - 0s 3ms/step - loss: 0.0148 - accuracy: 0.0000e+00\n",
      "Epoch 42/75\n",
      "4/4 [==============================] - 0s 4ms/step - loss: 0.0199 - accuracy: 0.0000e+00\n",
      "Epoch 43/75\n",
      "4/4 [==============================] - 0s 5ms/step - loss: 0.0126 - accuracy: 0.0000e+00\n",
      "Epoch 44/75\n",
      "4/4 [==============================] - 0s 4ms/step - loss: 0.0119 - accuracy: 0.0000e+00\n",
      "Epoch 45/75\n",
      "4/4 [==============================] - 0s 0s/step - loss: 0.0116 - accuracy: 0.0000e+00\n",
      "Epoch 46/75\n",
      "4/4 [==============================] - 0s 6ms/step - loss: 0.0136 - accuracy: 0.0000e+00\n",
      "Epoch 47/75\n",
      "4/4 [==============================] - 0s 0s/step - loss: 0.0125 - accuracy: 0.0000e+00\n",
      "Epoch 48/75\n",
      "4/4 [==============================] - 0s 3ms/step - loss: 0.0155 - accuracy: 0.0000e+00\n",
      "Epoch 49/75\n",
      "4/4 [==============================] - 0s 2ms/step - loss: 0.0127 - accuracy: 0.0000e+00\n",
      "Epoch 50/75\n",
      "4/4 [==============================] - 0s 5ms/step - loss: 0.0109 - accuracy: 0.0000e+00\n",
      "Epoch 51/75\n",
      "4/4 [==============================] - 0s 5ms/step - loss: 0.0126 - accuracy: 0.0000e+00\n",
      "Epoch 52/75\n",
      "4/4 [==============================] - 0s 2ms/step - loss: 0.0119 - accuracy: 0.0000e+00\n",
      "Epoch 53/75\n",
      "4/4 [==============================] - 0s 5ms/step - loss: 0.0117 - accuracy: 0.0000e+00\n",
      "Epoch 54/75\n",
      "4/4 [==============================] - 0s 2ms/step - loss: 0.0108 - accuracy: 0.0000e+00\n",
      "Epoch 55/75\n",
      "4/4 [==============================] - 0s 3ms/step - loss: 0.0100 - accuracy: 0.0000e+00\n",
      "Epoch 56/75\n",
      "4/4 [==============================] - 0s 2ms/step - loss: 0.0143 - accuracy: 0.0000e+00\n",
      "Epoch 57/75\n",
      "4/4 [==============================] - 0s 5ms/step - loss: 0.0142 - accuracy: 0.0000e+00\n",
      "Epoch 58/75\n",
      "4/4 [==============================] - 0s 5ms/step - loss: 0.0106 - accuracy: 0.0000e+00\n",
      "Epoch 59/75\n",
      "4/4 [==============================] - 0s 0s/step - loss: 0.0123 - accuracy: 0.0000e+00\n",
      "Epoch 60/75\n",
      "4/4 [==============================] - 0s 3ms/step - loss: 0.0120 - accuracy: 0.0000e+00\n",
      "Epoch 61/75\n",
      "4/4 [==============================] - 0s 5ms/step - loss: 0.0102 - accuracy: 0.0000e+00\n",
      "Epoch 62/75\n",
      "4/4 [==============================] - 0s 5ms/step - loss: 0.0146 - accuracy: 0.0000e+00\n",
      "Epoch 63/75\n",
      "4/4 [==============================] - 0s 3ms/step - loss: 0.0122 - accuracy: 0.0000e+00\n",
      "Epoch 64/75\n",
      "4/4 [==============================] - 0s 3ms/step - loss: 0.0110 - accuracy: 0.0000e+00\n",
      "Epoch 65/75\n",
      "4/4 [==============================] - 0s 0s/step - loss: 0.0113 - accuracy: 0.0000e+00\n",
      "Epoch 66/75\n",
      "4/4 [==============================] - 0s 3ms/step - loss: 0.0112 - accuracy: 0.0000e+00\n",
      "Epoch 67/75\n",
      "4/4 [==============================] - 0s 4ms/step - loss: 0.0140 - accuracy: 0.0000e+00\n",
      "Epoch 68/75\n",
      "4/4 [==============================] - 0s 3ms/step - loss: 0.0120 - accuracy: 0.0000e+00\n",
      "Epoch 69/75\n",
      "4/4 [==============================] - 0s 3ms/step - loss: 0.0127 - accuracy: 0.0000e+00\n",
      "Epoch 70/75\n",
      "4/4 [==============================] - 0s 5ms/step - loss: 0.0092 - accuracy: 0.0000e+00\n",
      "Epoch 71/75\n",
      "4/4 [==============================] - 0s 5ms/step - loss: 0.0151 - accuracy: 0.0000e+00\n",
      "Epoch 72/75\n",
      "4/4 [==============================] - 0s 3ms/step - loss: 0.0127 - accuracy: 0.0000e+00\n",
      "Epoch 73/75\n",
      "4/4 [==============================] - 0s 3ms/step - loss: 0.0098 - accuracy: 0.0000e+00\n",
      "Epoch 74/75\n",
      "4/4 [==============================] - 0s 5ms/step - loss: 0.0106 - accuracy: 0.0000e+00\n",
      "Epoch 75/75\n",
      "4/4 [==============================] - 0s 5ms/step - loss: 0.0121 - accuracy: 0.0000e+00\n"
     ]
    }
   ],
   "source": [
    "history = network.fit(train_data, train_targets, epochs=75, batch_size=64)"
   ]
  },
  {
   "cell_type": "code",
   "execution_count": 70,
   "id": "bb319ee9",
   "metadata": {
    "tags": []
   },
   "outputs": [
    {
     "name": "stdout",
     "output_type": "stream",
     "text": [
      "39.44444444444444\n",
      "53.333333333333336\n",
      "66.11111111111111\n",
      "97.77777777777777\n"
     ]
    }
   ],
   "source": [
    "p = network.predict(test_data)\n",
    "\n",
    "my_accuracy(test_data, test_targets,.05, p)\n",
    "my_accuracy(test_data, test_targets,.075, p)\n",
    "my_accuracy(test_data, test_targets,.1, p)\n",
    "my_accuracy(test_data, test_targets,.25, p)"
   ]
  },
  {
   "cell_type": "markdown",
   "id": "5fff4099",
   "metadata": {
    "tags": []
   },
   "source": [
    "#### High Variability, gets within 5% tolerance about 45% of the time\n",
    "\n",
    "#### Surprising to me, earlier when using data from the game itself the network was at around 30% accuracy"
   ]
  },
  {
   "cell_type": "markdown",
   "id": "e52cf67d",
   "metadata": {
    "tags": []
   },
   "source": [
    "### Now adding the other 7 European leagues"
   ]
  },
  {
   "cell_type": "code",
   "execution_count": 71,
   "id": "3b92648b",
   "metadata": {
    "tags": []
   },
   "outputs": [],
   "source": [
    "sData, sResult = read_dataset(\"NN6Data.txt\", \"NN6Targets.txt\")\n",
    "training_set, training_targets = sData[0:3000], sResult[0:3000] #\n",
    "testing_set, testing_targets = sData[3000:4197],sResult[3000:4197]\n",
    "\n",
    "train_data = np.array(training_set)\n",
    "train_data = train_data / 38\n",
    "train_targets = np.array(training_targets)\n",
    "train_targets = train_targets / 100\n",
    "\n",
    "test_data = np.array(testing_set)\n",
    "test_data = test_data / 38\n",
    "test_targets = np.array(testing_targets)\n",
    "test_targets = test_targets / 100"
   ]
  },
  {
   "cell_type": "code",
   "execution_count": 72,
   "id": "a2fa95ab",
   "metadata": {
    "tags": []
   },
   "outputs": [
    {
     "data": {
      "text/plain": [
       "(array([[ 1.26315789,  1.84210526, 11.97368421, ..., 13.34210526,\n",
       "          6.10526316,  6.97368421],\n",
       "        [ 0.76315789,  1.39473684, 10.47368421, ..., 11.97368421,\n",
       "          5.13157895,  3.65789474],\n",
       "        [ 1.5       ,  1.57894737, 12.31578947, ..., 12.44736842,\n",
       "          7.5       ,  4.81578947],\n",
       "        ...,\n",
       "        [ 1.15789474,  1.31578947, 12.52631579, ..., 15.02631579,\n",
       "          4.02631579,  5.10526316],\n",
       "        [ 1.57894737,  1.60526316, 10.92105263, ..., 13.55263158,\n",
       "          4.76315789,  4.73684211],\n",
       "        [ 1.15789474,  1.52631579,  9.47368421, ...,  8.52631579,\n",
       "          6.05263158,  3.31578947]]),\n",
       " (3000, 20))"
      ]
     },
     "execution_count": 72,
     "metadata": {},
     "output_type": "execute_result"
    }
   ],
   "source": [
    "train_data, train_data.shape"
   ]
  },
  {
   "cell_type": "code",
   "execution_count": 73,
   "id": "f74ea24d",
   "metadata": {
    "tags": []
   },
   "outputs": [
    {
     "data": {
      "text/plain": [
       "(array([0.28, 0.59, 0.36, ..., 0.58, 0.43, 0.17]), (3000,))"
      ]
     },
     "execution_count": 73,
     "metadata": {},
     "output_type": "execute_result"
    }
   ],
   "source": [
    "train_targets, train_targets.shape"
   ]
  },
  {
   "cell_type": "code",
   "execution_count": 74,
   "id": "4c5130b1",
   "metadata": {
    "tags": []
   },
   "outputs": [],
   "source": [
    "network = Sequential()\n",
    "network.add(Flatten(input_shape=(20,)))\n",
    "network.add(Dense(30, activation='relu', name='hidden', input_shape=(20,)))\n",
    "network.add(Dense(30, activation='relu', name='hidden2', input_shape=(20,)))\n",
    "network.add(Dense(10, activation='relu', name='hidden3', input_shape=(20,)))\n",
    "network.add(Dense(1, activation='sigmoid', name='output'))"
   ]
  },
  {
   "cell_type": "code",
   "execution_count": 75,
   "id": "06b3e060",
   "metadata": {
    "tags": []
   },
   "outputs": [],
   "source": [
    "network.compile(loss='mean_squared_error', optimizer='rmsprop', metrics=['accuracy']) #'mean_squared_error'"
   ]
  },
  {
   "cell_type": "code",
   "execution_count": 76,
   "id": "c3524aea",
   "metadata": {
    "tags": []
   },
   "outputs": [
    {
     "name": "stdout",
     "output_type": "stream",
     "text": [
      "Model: \"sequential_6\"\n",
      "_________________________________________________________________\n",
      "Layer (type)                 Output Shape              Param #   \n",
      "=================================================================\n",
      "flatten_6 (Flatten)          (None, 20)                0         \n",
      "_________________________________________________________________\n",
      "hidden (Dense)               (None, 30)                630       \n",
      "_________________________________________________________________\n",
      "hidden2 (Dense)              (None, 30)                930       \n",
      "_________________________________________________________________\n",
      "hidden3 (Dense)              (None, 10)                310       \n",
      "_________________________________________________________________\n",
      "output (Dense)               (None, 1)                 11        \n",
      "=================================================================\n",
      "Total params: 1,881\n",
      "Trainable params: 1,881\n",
      "Non-trainable params: 0\n",
      "_________________________________________________________________\n"
     ]
    }
   ],
   "source": [
    "network.summary()"
   ]
  },
  {
   "cell_type": "code",
   "execution_count": 77,
   "id": "1861a287",
   "metadata": {
    "tags": []
   },
   "outputs": [
    {
     "name": "stdout",
     "output_type": "stream",
     "text": [
      "Epoch 1/50\n",
      "94/94 [==============================] - 1s 2ms/step - loss: 0.0274 - accuracy: 0.0000e+00\n",
      "Epoch 2/50\n",
      "94/94 [==============================] - 0s 1ms/step - loss: 0.0186 - accuracy: 0.0000e+00\n",
      "Epoch 3/50\n",
      "94/94 [==============================] - 0s 2ms/step - loss: 0.0168 - accuracy: 0.0000e+00\n",
      "Epoch 4/50\n",
      "94/94 [==============================] - 0s 2ms/step - loss: 0.0154 - accuracy: 0.0000e+00\n",
      "Epoch 5/50\n",
      "94/94 [==============================] - 0s 1ms/step - loss: 0.0152 - accuracy: 0.0000e+00\n",
      "Epoch 6/50\n",
      "94/94 [==============================] - 0s 2ms/step - loss: 0.0142 - accuracy: 0.0000e+00\n",
      "Epoch 7/50\n",
      "94/94 [==============================] - 0s 2ms/step - loss: 0.0135 - accuracy: 0.0000e+00\n",
      "Epoch 8/50\n",
      "94/94 [==============================] - 0s 2ms/step - loss: 0.0139 - accuracy: 0.0000e+00\n",
      "Epoch 9/50\n",
      "94/94 [==============================] - 0s 2ms/step - loss: 0.0141 - accuracy: 0.0000e+00\n",
      "Epoch 10/50\n",
      "94/94 [==============================] - 0s 2ms/step - loss: 0.0133 - accuracy: 0.0000e+00\n",
      "Epoch 11/50\n",
      "94/94 [==============================] - 0s 2ms/step - loss: 0.0134 - accuracy: 0.0000e+00\n",
      "Epoch 12/50\n",
      "94/94 [==============================] - 0s 3ms/step - loss: 0.0131 - accuracy: 0.0000e+00\n",
      "Epoch 13/50\n",
      "94/94 [==============================] - 0s 2ms/step - loss: 0.0134 - accuracy: 0.0000e+00\n",
      "Epoch 14/50\n",
      "94/94 [==============================] - 0s 2ms/step - loss: 0.0133 - accuracy: 0.0000e+00\n",
      "Epoch 15/50\n",
      "94/94 [==============================] - 0s 2ms/step - loss: 0.0133 - accuracy: 0.0000e+00\n",
      "Epoch 16/50\n",
      "94/94 [==============================] - 0s 2ms/step - loss: 0.0127 - accuracy: 0.0000e+00\n",
      "Epoch 17/50\n",
      "94/94 [==============================] - 0s 2ms/step - loss: 0.0127 - accuracy: 0.0000e+00\n",
      "Epoch 18/50\n",
      "94/94 [==============================] - 0s 2ms/step - loss: 0.0128 - accuracy: 0.0000e+00\n",
      "Epoch 19/50\n",
      "94/94 [==============================] - 0s 2ms/step - loss: 0.0129 - accuracy: 0.0000e+00\n",
      "Epoch 20/50\n",
      "94/94 [==============================] - 0s 2ms/step - loss: 0.0122 - accuracy: 0.0000e+00\n",
      "Epoch 21/50\n",
      "94/94 [==============================] - 0s 2ms/step - loss: 0.0121 - accuracy: 0.0000e+00\n",
      "Epoch 22/50\n",
      "94/94 [==============================] - 0s 2ms/step - loss: 0.0117 - accuracy: 0.0000e+00\n",
      "Epoch 23/50\n",
      "94/94 [==============================] - 0s 2ms/step - loss: 0.0121 - accuracy: 0.0000e+00\n",
      "Epoch 24/50\n",
      "94/94 [==============================] - 0s 2ms/step - loss: 0.0123 - accuracy: 0.0000e+00\n",
      "Epoch 25/50\n",
      "94/94 [==============================] - 0s 2ms/step - loss: 0.0117 - accuracy: 0.0000e+00\n",
      "Epoch 26/50\n",
      "94/94 [==============================] - 0s 2ms/step - loss: 0.0114 - accuracy: 0.0000e+00\n",
      "Epoch 27/50\n",
      "94/94 [==============================] - 0s 2ms/step - loss: 0.0120 - accuracy: 0.0000e+00\n",
      "Epoch 28/50\n",
      "94/94 [==============================] - 0s 2ms/step - loss: 0.0114 - accuracy: 0.0000e+00\n",
      "Epoch 29/50\n",
      "94/94 [==============================] - 0s 2ms/step - loss: 0.0119 - accuracy: 0.0000e+00\n",
      "Epoch 30/50\n",
      "94/94 [==============================] - 0s 2ms/step - loss: 0.0118 - accuracy: 0.0000e+00\n",
      "Epoch 31/50\n",
      "94/94 [==============================] - 0s 2ms/step - loss: 0.0114 - accuracy: 0.0000e+00\n",
      "Epoch 32/50\n",
      "94/94 [==============================] - 0s 2ms/step - loss: 0.0113 - accuracy: 0.0000e+00\n",
      "Epoch 33/50\n",
      "94/94 [==============================] - 0s 2ms/step - loss: 0.0115 - accuracy: 0.0000e+00\n",
      "Epoch 34/50\n",
      "94/94 [==============================] - 0s 2ms/step - loss: 0.0116 - accuracy: 0.0000e+00\n",
      "Epoch 35/50\n",
      "94/94 [==============================] - 0s 2ms/step - loss: 0.0112 - accuracy: 0.0000e+00\n",
      "Epoch 36/50\n",
      "94/94 [==============================] - 0s 2ms/step - loss: 0.0103 - accuracy: 0.0000e+00\n",
      "Epoch 37/50\n",
      "94/94 [==============================] - 0s 2ms/step - loss: 0.0111 - accuracy: 0.0000e+00\n",
      "Epoch 38/50\n",
      "94/94 [==============================] - ETA: 0s - loss: 0.0114 - accuracy: 0.0000e+ - 0s 2ms/step - loss: 0.0114 - accuracy: 0.0000e+00\n",
      "Epoch 39/50\n",
      "94/94 [==============================] - 0s 2ms/step - loss: 0.0112 - accuracy: 0.0000e+00\n",
      "Epoch 40/50\n",
      "94/94 [==============================] - 0s 2ms/step - loss: 0.0107 - accuracy: 0.0000e+00\n",
      "Epoch 41/50\n",
      "94/94 [==============================] - 0s 2ms/step - loss: 0.0114 - accuracy: 0.0000e+00\n",
      "Epoch 42/50\n",
      "94/94 [==============================] - 0s 2ms/step - loss: 0.0106 - accuracy: 0.0000e+00\n",
      "Epoch 43/50\n",
      "94/94 [==============================] - 0s 2ms/step - loss: 0.0108 - accuracy: 0.0000e+00\n",
      "Epoch 44/50\n",
      "94/94 [==============================] - 0s 2ms/step - loss: 0.0105 - accuracy: 0.0000e+00: 0s - loss: 0.0105 - accuracy: 0.0000e+\n",
      "Epoch 45/50\n",
      "94/94 [==============================] - 0s 2ms/step - loss: 0.0106 - accuracy: 0.0000e+00\n",
      "Epoch 46/50\n",
      "94/94 [==============================] - 0s 2ms/step - loss: 0.0106 - accuracy: 0.0000e+00\n",
      "Epoch 47/50\n",
      "94/94 [==============================] - 0s 2ms/step - loss: 0.0100 - accuracy: 0.0000e+00\n",
      "Epoch 48/50\n",
      "94/94 [==============================] - 0s 2ms/step - loss: 0.0102 - accuracy: 0.0000e+00\n",
      "Epoch 49/50\n",
      "94/94 [==============================] - 0s 2ms/step - loss: 0.0100 - accuracy: 0.0000e+00\n",
      "Epoch 50/50\n",
      "94/94 [==============================] - 0s 2ms/step - loss: 0.0099 - accuracy: 0.0000e+00\n"
     ]
    }
   ],
   "source": [
    "history = network.fit(train_data, train_targets, epochs=50)"
   ]
  },
  {
   "cell_type": "code",
   "execution_count": 78,
   "id": "7d9ff935",
   "metadata": {
    "tags": []
   },
   "outputs": [],
   "source": [
    "p = network.predict(test_data)"
   ]
  },
  {
   "cell_type": "code",
   "execution_count": 79,
   "id": "d09d0a7b",
   "metadata": {
    "tags": []
   },
   "outputs": [
    {
     "name": "stdout",
     "output_type": "stream",
     "text": [
      "31.57894736842105\n",
      "46.44945697577276\n",
      "58.980785296574766\n",
      "95.65580618212198\n"
     ]
    }
   ],
   "source": [
    "my_accuracy(test_data, test_targets,.05, p)\n",
    "my_accuracy(test_data, test_targets,.075, p)\n",
    "my_accuracy(test_data, test_targets,.1, p)\n",
    "my_accuracy(test_data, test_targets,.25, p)"
   ]
  },
  {
   "cell_type": "markdown",
   "id": "036f0fb1",
   "metadata": {
    "tags": []
   },
   "source": [
    "#### Adding in the other leagues lowered the accuracy to around 35% (from 45%)"
   ]
  },
  {
   "cell_type": "markdown",
   "id": "e33ed567",
   "metadata": {
    "tags": []
   },
   "source": [
    "### Ways To Improve: \n",
    "* Account for home field advantage\n",
    "* Update teams statistics after every game\n",
    "* Figure out a better system to predict a tie\n",
    "* Determine which data points have the biggest impat on the network\n",
    "* Normalize data better\n",
    "* Continue messing with parameters such as optimizers, learning rates, etc.\n",
    "\n",
    "lstm network"
   ]
  },
  {
   "cell_type": "code",
   "execution_count": null,
   "id": "52e343ef",
   "metadata": {},
   "outputs": [],
   "source": []
  }
 ],
 "metadata": {
  "kernelspec": {
   "display_name": "Python 3",
   "language": "python",
   "name": "python3"
  },
  "language_info": {
   "codemirror_mode": {
    "name": "ipython",
    "version": 3
   },
   "file_extension": ".py",
   "mimetype": "text/x-python",
   "name": "python",
   "nbconvert_exporter": "python",
   "pygments_lexer": "ipython3",
   "version": "3.8.8"
  }
 },
 "nbformat": 4,
 "nbformat_minor": 5
}
